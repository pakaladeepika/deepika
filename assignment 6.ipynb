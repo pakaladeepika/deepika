{
 "cells": [
  {
   "cell_type": "code",
   "execution_count": 3,
   "id": "00f3b6f2-91cc-4cb3-a3d9-2094104d89cf",
   "metadata": {},
   "outputs": [
    {
     "name": "stdin",
     "output_type": "stream",
     "text": [
      "enter length in centimeters: 1000\n",
      "convert the length to inches: 2.54\n"
     ]
    },
    {
     "name": "stdout",
     "output_type": "stream",
     "text": [
      " length in to inches : 2.54\n"
     ]
    }
   ],
   "source": [
    "#Write a program that asks the user to enter a length in centimetres.\n",
    "#If the user entera negative length, the program should tell the user that the entry is invalid. Otherwise,\n",
    "#the program should convert the length to inches andprint out the result. There are\n",
    "#2.54 centimetres in an inch.\n",
    "length=eval(input(\"enter length in centimeters:\"))\n",
    "if length<0:\n",
    "    length=eval(input(\"the entry is invalid:\"))\n",
    "\n",
    "\n",
    "else:\n",
    "    inches=eval(input(\"convert the length to inches:\"))\n",
    "    print(\" length in to inches :\",inches)\n",
    "    \n"
   ]
  },
  {
   "cell_type": "code",
   "execution_count": 2,
   "id": "644d0c9c-5183-438c-bb8e-c18a185246d4",
   "metadata": {},
   "outputs": [
    {
     "name": "stdin",
     "output_type": "stream",
     "text": [
      "enter length in cm: 2.54\n"
     ]
    },
    {
     "name": "stdout",
     "output_type": "stream",
     "text": [
      "the length in centimeters convert into inches is : 1\n"
     ]
    }
   ],
   "source": [
    "length=eval(input(\"enter length in cm:\"))\n",
    "if length>0:\n",
    "   print(\"the length in centimeters convert into inches is :\",round(length/2.54))\n",
    "else:\n",
    "    print(\"enter a valid length\")"
   ]
  },
  {
   "cell_type": "code",
   "execution_count": null,
   "id": "cc15a885-0f08-40f0-905a-67475b8a1ad6",
   "metadata": {},
   "outputs": [],
   "source": []
  },
  {
   "cell_type": "code",
   "execution_count": 50,
   "id": "63d978d3-be75-4760-99a7-1240c54cec59",
   "metadata": {},
   "outputs": [
    {
     "name": "stdin",
     "output_type": "stream",
     "text": [
      "enter the temperatrue: 32\n",
      "enter units as celsius or farenhit: 32\n"
     ]
    },
    {
     "name": "stdout",
     "output_type": "stream",
     "text": [
      "invalid\n"
     ]
    }
   ],
   "source": [
    "#Ask the user for a temperature. Then ask them what units, Celsius or Fahrenheit, the\n",
    "#temperature is in. Your program should convert the temperature to the other unit. The\n",
    "#conv\n",
    "\n",
    "ersions are F = 9 5 C +32 and C = 5 9 (F − 32).\n",
    "temperature=eval(input(\"enter the temperatrue:\"))\n",
    "unit=eval(input(\"enter units as celsius or farenhit:\"))\n",
    "farenhit=(temperature*9/5)+32\n",
    "celsius=(temperature-32)*5/9\n",
    "if unit==farenhit:\n",
    "   farenhit=(temperature*9/5)+32\n",
    "\n",
    "elif unit==celsius:\n",
    "      celsius=(tempertaure-32)*5/9\n",
    "\n",
    "else:\n",
    "    print(\"invalid\")\n",
    "\n"
   ]
  },
  {
   "cell_type": "code",
   "execution_count": 3,
   "id": "ba1b4c45-e8dd-4cae-8b54-060efeea490d",
   "metadata": {},
   "outputs": [
    {
     "name": "stdin",
     "output_type": "stream",
     "text": [
      "enter temperature in: 32\n",
      "temperature in what units celsius or fahrenheit F OR C : c\n"
     ]
    },
    {
     "name": "stdout",
     "output_type": "stream",
     "text": [
      "temperature in celsius c units converted into fahrenheit f is : 115.2\n"
     ]
    }
   ],
   "source": [
    "temperature=eval(input(\"enter temperature in:\"))\n",
    "units=input(\"temperature in what units celsius or fahrenheit F OR C :\")\n",
    "if units==\"C\" or units==\"c\":\n",
    "   fahrenheit=(temperature+32)*9/5\n",
    "   print(\"temperature in celsius c units converted into fahrenheit f is :\",round(fahrenheit,2))\n",
    "elif units==\"F\" or units==\"f\":\n",
    "     celsius=(temperature-32)*5/9\n",
    "     print(\"temperature in fahrenheit f units converted into celsius c is :\",round(celsius,2))\n",
    "else:\n",
    "    print(\"enter valid temperature\")"
   ]
  },
  {
   "cell_type": "code",
   "execution_count": 5,
   "id": "d0d60bf3-4fd1-4e3d-b77a-b583514ce859",
   "metadata": {},
   "outputs": [
    {
     "name": "stdin",
     "output_type": "stream",
     "text": [
      "enter a temperatrue in celsius: 100\n"
     ]
    },
    {
     "name": "stdout",
     "output_type": "stream",
     "text": [
      "the temp is below\n"
     ]
    }
   ],
   "source": [
    "#Ask the user to enter a temperature in Celsius. The program should print a\n",
    "#message based on the temperature:\n",
    "#• If the temperature is between -273.15 and 0, print that the temperature is below\n",
    "#freezing. • If it is 0, print that the temperature is at the freezing point.\n",
    "#• If it is between 0 and 100, print that the temperature is in the normal\n",
    "#range. • If it is 100, print that the temperature is at the boiling point.\n",
    "#• If it is above 100, print that the temperature is above the boiling point.\n",
    "temp=eval(input(\"enter a temperatrue in celsius:\"))\n",
    "if temp<-273.15:\n",
    "    print(\"the temperatrue is invalid\")\n",
    "if temp==-27315:\n",
    "    print(\"the temperatrue is absolute zero\")\n",
    "elif temp>=-273.15:\n",
    "    print(\"the temp is below\")\n",
    "elif temp==0:\n",
    "    print(\"the temp is at freezing point\")\n",
    "elif temp>=0:\n",
    "    print(\"the temp is normal\")\n",
    "\n",
    "elif temp==100:\n",
    "    print(\"the temp is boiling point\")\n",
    "\n",
    "elif temp>=100:\n",
    "    print(\"the temp is above the boiling point\")\n"
   ]
  },
  {
   "cell_type": "code",
   "execution_count": 4,
   "id": "28a7e1ca-8fe0-4973-954a-9d52dc2f892d",
   "metadata": {},
   "outputs": [
    {
     "name": "stdin",
     "output_type": "stream",
     "text": [
      "enter temperature in celsius : 100\n"
     ]
    },
    {
     "name": "stdout",
     "output_type": "stream",
     "text": [
      "temperature is at boiling point\n"
     ]
    }
   ],
   "source": [
    "t=eval(input(\"enter temperature in celsius :\"))\n",
    "if t<-273.15:\n",
    "   print(\"temperature is invalid because temperature is below absolute 0\")\n",
    "if t==-273.15:\n",
    "   print(\" temperature is at absolute 0\")\n",
    "elif t>-273.15 and t<0:\n",
    "     print(\"temperature is below freezing point\")\n",
    "elif t==0:\n",
    "     print(\"temperature is at freezing point\")\n",
    "elif t>0 and t<100:\n",
    "     print(\"temperature is normal range\")\n",
    "elif t==100:\n",
    "     print(\"temperature is at boiling point\")\n",
    "elif t>100:\n",
    "     print(\"temperature is above the boiling point\")"
   ]
  },
  {
   "cell_type": "code",
   "execution_count": 52,
   "id": "6d2aee01-5664-4c5b-8012-3b800b2939a4",
   "metadata": {},
   "outputs": [
    {
     "name": "stdin",
     "output_type": "stream",
     "text": [
      "enter how many credits they have taken: 24\n"
     ]
    },
    {
     "name": "stdout",
     "output_type": "stream",
     "text": [
      "they re asophomore\n"
     ]
    }
   ],
   "source": [
    "#Write a program that asks the user how many credits they have taken. If they have taken 23 or\n",
    "#less, print that the student is a freshman. If they have taken between 24 and 53, print that they\n",
    "#are asophomore. The range for juniors is 54 to 83, and for seniors it is 84 and over.\n",
    "credits=eval(input(\"enter how many credits they have taken:\"))\n",
    "if credits<=23:\n",
    "   print(\"the student is freshman\")\n",
    "elif credits>=24:\n",
    "     print(\"they re asophomore\")\n",
    "\n",
    "else:\n",
    "    print(\"the range for juniors is 54 to 83\")\n",
    "    print(\"for seniors it is 84 and over\")\n",
    "    "
   ]
  },
  {
   "cell_type": "code",
   "execution_count": 6,
   "id": "3eefdc1f-63e5-4647-95bf-0aae3cdccba8",
   "metadata": {},
   "outputs": [
    {
     "name": "stdin",
     "output_type": "stream",
     "text": [
      "enter how many credits you taken: 3\n"
     ]
    },
    {
     "name": "stdout",
     "output_type": "stream",
     "text": [
      "student is freshman\n"
     ]
    }
   ],
   "source": [
    "credits=eval(input(\"enter how many credits you taken:\"))\n",
    "if credits<=23:\n",
    "   print(\"student is freshman\")\n",
    "elif credits>=24 and credits<=53:\n",
    "     print(\"student is asophomore\")\n",
    "elif credits>=54 and credits<=83:\n",
    "     print(\"student is junior\")\n",
    "elif credits>=84:\n",
    "     print(\"student is senior\")\n",
    " "
   ]
  },
  {
   "cell_type": "code",
   "execution_count": 46,
   "id": "90e57f6e-1cd9-4311-a486-65142645bea7",
   "metadata": {},
   "outputs": [
    {
     "name": "stdin",
     "output_type": "stream",
     "text": [
      "guess the number: 10\n"
     ]
    },
    {
     "name": "stdout",
     "output_type": "stream",
     "text": [
      "they get it right\n"
     ]
    }
   ],
   "source": [
    "#Generate a random number between 1 and 10. Ask the user to guess the number and print a\n",
    "#message based on whether they get it right or not.\n",
    "import random\n",
    "n=random.randint(1,10)\n",
    "if n>0:\n",
    "    n=eval(input(\"guess the number:\"))\n",
    "    print(\"they get it right\")\n",
    "\n",
    "else:\n",
    "    print(\"they get not right\")"
   ]
  },
  {
   "cell_type": "code",
   "execution_count": 7,
   "id": "8cddbf38-f835-41c8-be6d-311d3df65963",
   "metadata": {},
   "outputs": [
    {
     "name": "stdout",
     "output_type": "stream",
     "text": [
      "number is : 5\n"
     ]
    },
    {
     "name": "stdin",
     "output_type": "stream",
     "text": [
      "enter number: 10\n"
     ]
    },
    {
     "name": "stdout",
     "output_type": "stream",
     "text": [
      " you are lose it\n"
     ]
    }
   ],
   "source": [
    "import random\n",
    "n=random.randint(1,10)\n",
    "print(\"number is :\",n)\n",
    "n1=eval(input(\"enter number:\"))\n",
    "if n==n1:\n",
    "   print(\" you got it\")\n",
    "else:\n",
    "    print(\" you are lose it\")"
   ]
  },
  {
   "cell_type": "code",
   "execution_count": 39,
   "id": "2548c0ba-2936-40bd-afee-980123a7ed05",
   "metadata": {},
   "outputs": [
    {
     "name": "stdin",
     "output_type": "stream",
     "text": [
      "how many items they are buying: 20\n"
     ]
    },
    {
     "name": "stdout",
     "output_type": "stream",
     "text": [
      "the cost is $10 per item\n"
     ]
    }
   ],
   "source": [
    "#A store charges $12 per item if you buy less than 10 items. If you buy between 10\n",
    "#and 99 items, the cost is $10 per item. If you buy 100 or more items, the cost is $7\n",
    "#per item. Write a program that asks the user how many items they are buying and\n",
    "#prints the total cost.\n",
    "item=eval(input(\"how many items they are buying:\"))\n",
    "if item<10:\n",
    "    print(\"the cost is $12 per item\")\n",
    "\n",
    "elif item>=10:\n",
    "    print(\"the cost is $10 per item\")\n",
    "\n",
    "elif item>=100:\n",
    "    print(\"the cost is $7 per item\")\n",
    "else:\n",
    "    print(\"total cost\")"
   ]
  },
  {
   "cell_type": "code",
   "execution_count": 8,
   "id": "fc4ba73d-e2ec-414c-92f2-6dca8fd99bd6",
   "metadata": {},
   "outputs": [
    {
     "name": "stdin",
     "output_type": "stream",
     "text": [
      "enter number of items you want to buy: 10\n"
     ]
    },
    {
     "name": "stdout",
     "output_type": "stream",
     "text": [
      " for 10 total charges 100$\n"
     ]
    }
   ],
   "source": [
    "items=eval(input(\"enter number of items you want to buy:\"))\n",
    "if items<10:\n",
    "   charges=items*12\n",
    "   print(f\" for {items} total charges {charges}$\")\n",
    "elif items>=10 and items<=99:\n",
    "    charges=items*10\n",
    "    print(f\" for {items} total charges {charges}$\")\n",
    "elif items>=100:\n",
    "     charges=items*7\n",
    "     print(f\" for {items} total charges {charges}$\")"
   ]
  },
  {
   "cell_type": "code",
   "execution_count": 38,
   "id": "0de7156b-9658-4706-bfbc-54aa9ccd75a6",
   "metadata": {},
   "outputs": [
    {
     "name": "stdin",
     "output_type": "stream",
     "text": [
      "enter two numbers: 20\n"
     ]
    },
    {
     "name": "stdout",
     "output_type": "stream",
     "text": [
      "the number are within 001 of each other\n"
     ]
    }
   ],
   "source": [
    "#Write a program that asks the user for two numbers and prints Close if the\n",
    "#numbers are within .001of each other and Not close otherwise.\n",
    "number=eval(input(\"enter two numbers:\"))\n",
    "if number>0:\n",
    "    print(\"the number are within 001 of each other\")\n",
    "\n",
    "else:\n",
    "    print(\"not close\")"
   ]
  },
  {
   "cell_type": "code",
   "execution_count": 9,
   "id": "517c9e7e-68b7-44c6-8b9a-004d00e82f00",
   "metadata": {},
   "outputs": [
    {
     "name": "stdin",
     "output_type": "stream",
     "text": [
      "enter number: 15\n",
      "enter number: 20\n"
     ]
    },
    {
     "name": "stdout",
     "output_type": "stream",
     "text": [
      "not close eachother\n"
     ]
    }
   ],
   "source": [
    "n=eval(input(\"enter number:\"))\n",
    "n1=eval(input(\"enter number:\"))\n",
    "closeness=round(n-n1,2)\n",
    "if closeness==0.01:\n",
    "   print(\"close together\")\n",
    "else:\n",
    "    print(\"not close eachother\")"
   ]
  },
  {
   "cell_type": "code",
   "execution_count": 37,
   "id": "1b4097a3-636e-4d5f-871b-0e8518eb2bcc",
   "metadata": {},
   "outputs": [
    {
     "name": "stdin",
     "output_type": "stream",
     "text": [
      "enter a leap year: 22\n"
     ]
    },
    {
     "name": "stdout",
     "output_type": "stream",
     "text": [
      "not a leap year\n"
     ]
    }
   ],
   "source": [
    "#A year is a leap year if it is divisible by 4, except that years divisible by 100 are not leap years unless\n",
    "#they are also divisible by 400. Write a program that asks the user for a year and prints out whether\n",
    "#it is a leap year or not.\n",
    "year=eval(input(\"enter a leap year:\"))\n",
    "if year%4==0:\n",
    "   print(\"it a leap year\")             \n",
    "   if year%100==0:\n",
    "      print(\"it  leap year\")\n",
    "   if year%400==0:\n",
    "      print(\"leap year\")\n",
    "else:\n",
    "    print(\"not a leap year\")\n",
    "\n",
    "                \n",
    "                "
   ]
  },
  {
   "cell_type": "code",
   "execution_count": 11,
   "id": "93ced41f-646d-4cc3-84de-9b4d7981acd6",
   "metadata": {},
   "outputs": [
    {
     "name": "stdin",
     "output_type": "stream",
     "text": [
      "enter year: 2024\n"
     ]
    },
    {
     "name": "stdout",
     "output_type": "stream",
     "text": [
      "2024 is leap year\n"
     ]
    }
   ],
   "source": [
    "year=eval(input(\"enter year:\"))\n",
    "if(year%4==0 )and(year%400==0):\n",
    "   print(f\"{year} is leap year\")\n",
    "elif(year%4==0)and(year%100!=0):\n",
    "   print(f\"{year} is leap year\")\n",
    "else:\n",
    "    print(f\"{year} is not leap year\")"
   ]
  },
  {
   "cell_type": "code",
   "execution_count": 36,
   "id": "b25fd3ed-ca8d-4cd8-af72-2fb1d8f519e4",
   "metadata": {},
   "outputs": [
    {
     "name": "stdin",
     "output_type": "stream",
     "text": [
      "enter a number: 5\n"
     ]
    },
    {
     "name": "stdout",
     "output_type": "stream",
     "text": [
      "  divisors of {num} are:\n",
      "1\n",
      "5\n"
     ]
    }
   ],
   "source": [
    "#Write a program that asks the user to enter a number and prints out all the divisors of that\n",
    "#number. [Hint: the % operator is used to tell if a number is divisible by something.\n",
    "num=eval(input(\"enter a number:\"))\n",
    "if num>0:\n",
    "    print(\"  divisors of {num} are:\")\n",
    "    for i in range(1,num+1):\n",
    "        if num%i==0:\n",
    "           print(i)\n",
    "else:\n",
    "    print(\"enter positive number:\")"
   ]
  },
  {
   "cell_type": "code",
   "execution_count": 35,
   "id": "0e29294b-81b2-4101-b37c-d60ebd7998d6",
   "metadata": {},
   "outputs": [
    {
     "name": "stdin",
     "output_type": "stream",
     "text": [
      "enter an hour between 1 and 12: 12\n",
      "am(1) or pm(2): pm\n"
     ]
    },
    {
     "name": "stdout",
     "output_type": "stream",
     "text": [
      "invalid input for am/pm\n"
     ]
    },
    {
     "name": "stdin",
     "output_type": "stream",
     "text": [
      "how many hours ahead? 24\n"
     ]
    }
   ],
   "source": [
    "#Write a program that asks the user for an hour between 1 and 12, asks them to#\n",
    "#enter am or pm, and asks them how many hours into the future they want to go.\n",
    "#Print out what the hour will be that many hours into the future, printing am or pm as\n",
    "#appropriate. An example is shown below.\n",
    "#Enter hour: 8\n",
    "#am (1) or pm (2)? 1\n",
    "#How many hours ahead? 5\n",
    "#New hour: 1 pm\n",
    "hour=eval(input(\"enter an hour between 1 and 12:\"))\n",
    "period=input(\"am(1) or pm(2):\")\n",
    "if period==1:\n",
    "    period=(\"am\")\n",
    "elif period==2:\n",
    "     period=\"pm\"\n",
    "\n",
    "else:\n",
    "    print(\"invalid input for am/pm\")\n",
    "\n",
    "hours_head=input(\"how many hours ahead?\")\n",
    "new_hour=hour+hour\n",
    "new_hour=new_hour%24\n",
    "if new_hour==0:\n",
    "    new_hour=12\n",
    "else:\n",
    "    print(\"new_hour is{new_hour}\")\n",
    "\n"
   ]
  },
  {
   "cell_type": "code",
   "execution_count": 24,
   "id": "95023bb4-538c-4a25-a2ec-9ebe5bbb3117",
   "metadata": {},
   "outputs": [
    {
     "name": "stdout",
     "output_type": "stream",
     "text": [
      "9\n"
     ]
    },
    {
     "name": "stdin",
     "output_type": "stream",
     "text": [
      "enter hour am or pm ? : pm\n",
      "how many hours ahead ? : 24\n"
     ]
    },
    {
     "name": "stdout",
     "output_type": "stream",
     "text": [
      " 9 is ahead of 24 is: 21pm "
     ]
    }
   ],
   "source": [
    "import random\n",
    "hour=random.randint(1,12)\n",
    "print(hour)\n",
    "hour1=input(\"enter hour am or pm ? :\")\n",
    "ahead_hours=eval(input(\"how many hours ahead ? :\"))\n",
    "new_hour=hour+ahead_hours\n",
    "if hour1==\"am\" or hour==\"AM\":\n",
    "    if new_hour>=12:\n",
    "        new_hour2=24-new_hour\n",
    "        new_hour3=12-new_hour2\n",
    "        if new_hour3==0:\n",
    "            new_hour3=12\n",
    "            print(f\" {hour} is ahead of {ahead_hours} is: {new_hour3}\",end=\"pm \")\n",
    "        else:\n",
    "            print(f\" {hour} is ahead of {ahead_hours} is: {new_hour3}\",end=\"am \")\n",
    "elif hour1==\"pm\" or hour==\"PM\":\n",
    "    if new_hour>=12:\n",
    "        new_hour2=24-new_hour\n",
    "        new_hour3=12-new_hour2\n",
    "    if new_hour3==0:\n",
    "        new_hour3=12\n",
    "        print(f\" {hour} is ahead of {ahead_hours} is: {new_hour3}\",end=\"am \")\n",
    "    else:\n",
    "        print(f\" {hour} is ahead of {ahead_hours} is: {new_hour3}\",end=\"pm \")"
   ]
  },
  {
   "cell_type": "code",
   "execution_count": null,
   "id": "1f3f4ee1-e933-4e55-9f3d-6ea023674afe",
   "metadata": {},
   "outputs": [],
   "source": []
  }
 ],
 "metadata": {
  "kernelspec": {
   "display_name": "Python 3 (ipykernel)",
   "language": "python",
   "name": "python3"
  },
  "language_info": {
   "codemirror_mode": {
    "name": "ipython",
    "version": 3
   },
   "file_extension": ".py",
   "mimetype": "text/x-python",
   "name": "python",
   "nbconvert_exporter": "python",
   "pygments_lexer": "ipython3",
   "version": "3.12.7"
  }
 },
 "nbformat": 4,
 "nbformat_minor": 5
}
