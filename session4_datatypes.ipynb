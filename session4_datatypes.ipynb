{
 "cells": [
  {
   "cell_type": "markdown",
   "id": "96e55009-1b33-4145-a3f0-1e212c90d1b5",
   "metadata": {},
   "source": [
    "# Data types"
   ]
  },
  {
   "cell_type": "markdown",
   "id": "8c289464-b646-4371-b626-08c35474d983",
   "metadata": {},
   "source": [
    "- integer : int\n",
    "- string\n",
    "- list\n",
    "- float\n",
    "- tuple\n",
    "- set\n",
    "   - frozen set\n",
    "- dictionary\n",
    "- boolean\n",
    "- complex\n",
    "- range\n",
    "- byte\n",
    "- byte array\n",
    "- memory view\n",
    "- none type\n"
   ]
  },
  {
   "cell_type": "markdown",
   "id": "cc4f9030-f298-4037-81c8-18f31cb7545e",
   "metadata": {},
   "source": [
    "- myth\n",
    "- only 14-15 data types available"
   ]
  },
  {
   "cell_type": "markdown",
   "id": "67e943f4-2c2e-4f08-89ba-afa0f0035d77",
   "metadata": {},
   "source": [
    "$integer$"
   ]
  },
  {
   "cell_type": "markdown",
   "id": "76cd39ee-f665-4b31-aad0-9ec8cc728708",
   "metadata": {},
   "source": []
  },
  {
   "cell_type": "code",
   "execution_count": 1,
   "id": "61a39ad0-ef04-4100-8b7d-daf84ea7ab1e",
   "metadata": {},
   "outputs": [
    {
     "data": {
      "text/plain": [
       "100"
      ]
     },
     "execution_count": 1,
     "metadata": {},
     "output_type": "execute_result"
    }
   ],
   "source": [
    "number=100\n",
    "number"
   ]
  },
  {
   "cell_type": "code",
   "execution_count": 2,
   "id": "0730301a-4447-4f25-af48-0f9d897c8a19",
   "metadata": {},
   "outputs": [
    {
     "data": {
      "text/plain": [
       "int"
      ]
     },
     "execution_count": 2,
     "metadata": {},
     "output_type": "execute_result"
    }
   ],
   "source": [
    "type(number)"
   ]
  },
  {
   "cell_type": "code",
   "execution_count": 3,
   "id": "19a44cf5-dbb1-4812-bbc3-67d28297c890",
   "metadata": {},
   "outputs": [
    {
     "ename": "SyntaxError",
     "evalue": "invalid syntax (2542184503.py, line 1)",
     "output_type": "error",
     "traceback": [
      "\u001b[1;36m  Cell \u001b[1;32mIn[3], line 1\u001b[1;36m\u001b[0m\n\u001b[1;33m    on earth == how old are you\u001b[0m\n\u001b[1;37m       ^\u001b[0m\n\u001b[1;31mSyntaxError\u001b[0m\u001b[1;31m:\u001b[0m invalid syntax\n"
     ]
    }
   ],
   "source": [
    "on earth == how old are you\n",
    "7 years\n",
    "\n",
    "mars \n",
    "how old are you\n",
    "0b111"
   ]
  },
  {
   "cell_type": "markdown",
   "id": "8a43e81c-ce77-4505-9170-5ffc3d17a21d",
   "metadata": {},
   "source": [
    "**number system**\n",
    "- binary number system\n",
    "- decimal number system\n",
    "- octa number system\n",
    "- hexa number system"
   ]
  },
  {
   "cell_type": "code",
   "execution_count": 2,
   "id": "437586e4-9f22-4e24-a977-e7f0272bd7b8",
   "metadata": {},
   "outputs": [
    {
     "data": {
      "text/plain": [
       "2025"
      ]
     },
     "execution_count": 2,
     "metadata": {},
     "output_type": "execute_result"
    }
   ],
   "source": [
    "9*9\n",
    "5*5\n",
    "81*25"
   ]
  },
  {
   "cell_type": "code",
   "execution_count": 3,
   "id": "26db7882-1ce0-4d35-b40a-2fae21eb2853",
   "metadata": {},
   "outputs": [
    {
     "data": {
      "text/plain": [
       "2025"
      ]
     },
     "execution_count": 3,
     "metadata": {},
     "output_type": "execute_result"
    }
   ],
   "source": [
    "40*40+20*20+5*5"
   ]
  },
  {
   "cell_type": "code",
   "execution_count": 1,
   "id": "3a32c3f8-4087-4bfd-8112-c37f6e460c88",
   "metadata": {},
   "outputs": [
    {
     "data": {
      "text/plain": [
       "2025"
      ]
     },
     "execution_count": 1,
     "metadata": {},
     "output_type": "execute_result"
    }
   ],
   "source": [
    "sum([i**3 for i in range(1,10)])"
   ]
  },
  {
   "cell_type": "markdown",
   "id": "8e8d46ac-8ba2-4eb7-b81e-a81dda4a5f3a",
   "metadata": {},
   "source": [
    "**binary number system**\n",
    "- it is denoted with **0b** or **0B**\n",
    "- binary means two\n",
    "- we have generally 0 to 9 digits available\n",
    "- binary means only two digits allowed : 0 and 1\n",
    "- ex: 0b101 0b111 0b000\n",
    "- not valid : 0b123 0B1000012"
   ]
  },
  {
   "cell_type": "code",
   "execution_count": 4,
   "id": "d393c0ad-7679-4468-8ca3-cfdd01967933",
   "metadata": {},
   "outputs": [
    {
     "ename": "SyntaxError",
     "evalue": "invalid digit '2' in binary literal (1687110418.py, line 1)",
     "output_type": "error",
     "traceback": [
      "\u001b[1;36m  Cell \u001b[1;32mIn[4], line 1\u001b[1;36m\u001b[0m\n\u001b[1;33m    0b1121\u001b[0m\n\u001b[1;37m        ^\u001b[0m\n\u001b[1;31mSyntaxError\u001b[0m\u001b[1;31m:\u001b[0m invalid digit '2' in binary literal\n"
     ]
    }
   ],
   "source": [
    "0b1121"
   ]
  },
  {
   "cell_type": "code",
   "execution_count": 5,
   "id": "4a2c4694-8464-46ce-bca1-f6d03367bad6",
   "metadata": {},
   "outputs": [
    {
     "data": {
      "text/plain": [
       "7"
      ]
     },
     "execution_count": 5,
     "metadata": {},
     "output_type": "execute_result"
    }
   ],
   "source": [
    "0b111"
   ]
  },
  {
   "cell_type": "code",
   "execution_count": 1,
   "id": "bc931dcb-77ad-4420-92af-7c8875af47af",
   "metadata": {},
   "outputs": [
    {
     "data": {
      "text/plain": [
       "7"
      ]
     },
     "execution_count": 1,
     "metadata": {},
     "output_type": "execute_result"
    }
   ],
   "source": [
    "0b111"
   ]
  },
  {
   "cell_type": "code",
   "execution_count": 6,
   "id": "3dcc3f67-dd06-4ea5-a41f-b7a59307993d",
   "metadata": {},
   "outputs": [
    {
     "data": {
      "text/plain": [
       "11"
      ]
     },
     "execution_count": 6,
     "metadata": {},
     "output_type": "execute_result"
    }
   ],
   "source": [
    "0b1011 "
   ]
  },
  {
   "cell_type": "code",
   "execution_count": 2,
   "id": "66dd1d7e-14ff-4c42-b604-18aa1eb3b4e3",
   "metadata": {},
   "outputs": [
    {
     "data": {
      "text/plain": [
       "0"
      ]
     },
     "execution_count": 2,
     "metadata": {},
     "output_type": "execute_result"
    }
   ],
   "source": [
    "0b000"
   ]
  },
  {
   "cell_type": "code",
   "execution_count": 7,
   "id": "f5a7b11a-d32a-4dd7-8eee-f8e580891f38",
   "metadata": {},
   "outputs": [
    {
     "data": {
      "text/plain": [
       "29"
      ]
     },
     "execution_count": 7,
     "metadata": {},
     "output_type": "execute_result"
    }
   ],
   "source": [
    "0b11101"
   ]
  },
  {
   "cell_type": "code",
   "execution_count": 3,
   "id": "ed735a57-568b-433c-8de0-613349d07230",
   "metadata": {},
   "outputs": [
    {
     "ename": "SyntaxError",
     "evalue": "invalid digit '2' in binary literal (4129583345.py, line 1)",
     "output_type": "error",
     "traceback": [
      "\u001b[1;36m  Cell \u001b[1;32mIn[3], line 1\u001b[1;36m\u001b[0m\n\u001b[1;33m    0B1000012\u001b[0m\n\u001b[1;37m            ^\u001b[0m\n\u001b[1;31mSyntaxError\u001b[0m\u001b[1;31m:\u001b[0m invalid digit '2' in binary literal\n"
     ]
    }
   ],
   "source": [
    "0B1000012"
   ]
  },
  {
   "cell_type": "code",
   "execution_count": 6,
   "id": "8bec1ff6-816e-4fde-8b1d-d9b8f7ec8ab5",
   "metadata": {},
   "outputs": [
    {
     "data": {
      "text/plain": [
       "265"
      ]
     },
     "execution_count": 6,
     "metadata": {},
     "output_type": "execute_result"
    }
   ],
   "source": [
    "0B100001001"
   ]
  },
  {
   "cell_type": "code",
   "execution_count": 8,
   "id": "aca733d1-9176-4b23-9e4a-6908d440161c",
   "metadata": {},
   "outputs": [
    {
     "ename": "SyntaxError",
     "evalue": "invalid syntax (4088146045.py, line 1)",
     "output_type": "error",
     "traceback": [
      "\u001b[1;36m  Cell \u001b[1;32mIn[8], line 1\u001b[1;36m\u001b[0m\n\u001b[1;33m    2^2 2^1 2^0\u001b[0m\n\u001b[1;37m        ^\u001b[0m\n\u001b[1;31mSyntaxError\u001b[0m\u001b[1;31m:\u001b[0m invalid syntax\n"
     ]
    }
   ],
   "source": [
    "2^2 2^1 2^0\n",
    "4    2   1\n",
    "0    0   0      0\n",
    "0    0   1      1\n",
    "                                                                                                                                                     0\n",
    "0    1   0      2\n",
    "0    1   1      3\n",
    "1    0   0       4\n",
    "1    0   1      5\n",
    "1    1   0      6\n",
    "1    1   1      7"
   ]
  },
  {
   "cell_type": "code",
   "execution_count": null,
   "id": "4bb486ee-13fe-4e8d-a68d-6a75be29eddd",
   "metadata": {},
   "outputs": [],
   "source": []
  },
  {
   "cell_type": "code",
   "execution_count": null,
   "id": "2557526b-476d-44c0-bab8-5d601a6f1485",
   "metadata": {},
   "outputs": [],
   "source": [
    "2^2 2^1 2^0\n",
    "4    2   1\n",
    "0    0   0      0\n",
    "0    0   1      1\n",
    "                                                                                                                                                     0\n",
    "0    1   0      2\n",
    "0    1   1      3\n",
    "1    0   0      4\n",
    "1    0   1      5\n",
    "1    1   0      6\n",
    "1    1   1      7"
   ]
  },
  {
   "cell_type": "code",
   "execution_count": null,
   "id": "ba3b1798-3c8f-4d0d-9e7e-a5e5f647fc61",
   "metadata": {},
   "outputs": [],
   "source": [
    "2^3 2^2 2^1 2^0\n",
    "8    4   2  1\n",
    "0    0   0  0  0\n",
    "0    0   0  1  1\n",
    "0    0   1  0  2\n",
    "0    0   1  1  3\n",
    "0    1   0  0  4\n",
    "0    1   0  1  5\n",
    "0    1   1  0  6\n",
    "0    1   1  1  7\n",
    "1    0   0  0  8\n",
    "1    0   0  1  9\n",
    "1    0   1  0  10\n",
    "1    0   1  1  11\n",
    "1    1   0  0  12\n",
    "1    1   0  1  13\n",
    "1    1   1  0  14\n",
    "1    1   1  1  15"
   ]
  },
  {
   "cell_type": "markdown",
   "id": "c8de7eb5-97d0-4495-9e92-3d0c1f425451",
   "metadata": {},
   "source": [
    "**octa number system**\n",
    "- it is denoted with **0o** or **0O**\n",
    "- octal means 8\n",
    "- we have generally 0 to 7 digits available\n",
    "- octa means only twi digits allowed : 0 1 2 3 4 5 6 7\n",
    "- ex: 0o567 0o111 0o001 0O672\n",
    "- not valid: 0o768 0O169"
   ]
  },
  {
   "cell_type": "code",
   "execution_count": 4,
   "id": "7231642e-df45-4c68-8835-b64076219a23",
   "metadata": {},
   "outputs": [
    {
     "data": {
      "text/plain": [
       "83"
      ]
     },
     "execution_count": 4,
     "metadata": {},
     "output_type": "execute_result"
    }
   ],
   "source": [
    "0o123"
   ]
  },
  {
   "cell_type": "code",
   "execution_count": 7,
   "id": "fb427d31-cc2f-4e7d-a392-e03bd7a4e03d",
   "metadata": {},
   "outputs": [
    {
     "data": {
      "text/plain": [
       "375"
      ]
     },
     "execution_count": 7,
     "metadata": {},
     "output_type": "execute_result"
    }
   ],
   "source": [
    "0O567"
   ]
  },
  {
   "cell_type": "code",
   "execution_count": 8,
   "id": "fbfb9205-ba12-4767-8dfc-589fdbdd297b",
   "metadata": {},
   "outputs": [
    {
     "data": {
      "text/plain": [
       "73"
      ]
     },
     "execution_count": 8,
     "metadata": {},
     "output_type": "execute_result"
    }
   ],
   "source": [
    "0O111"
   ]
  },
  {
   "cell_type": "code",
   "execution_count": 9,
   "id": "cb675445-eaed-476c-8090-b754ed91d47c",
   "metadata": {},
   "outputs": [
    {
     "data": {
      "text/plain": [
       "2748"
      ]
     },
     "execution_count": 9,
     "metadata": {},
     "output_type": "execute_result"
    }
   ],
   "source": [
    "0xabc"
   ]
  },
  {
   "cell_type": "code",
   "execution_count": 9,
   "id": "3e18f819-fd4a-44b9-9e8c-32ec6f820132",
   "metadata": {},
   "outputs": [
    {
     "data": {
      "text/plain": [
       "442"
      ]
     },
     "execution_count": 9,
     "metadata": {},
     "output_type": "execute_result"
    }
   ],
   "source": [
    "0O672"
   ]
  },
  {
   "cell_type": "markdown",
   "id": "64dd205f-82f3-48e1-b4bf-71a70a363edc",
   "metadata": {},
   "source": [
    "### 2025"
   ]
  },
  {
   "cell_type": "markdown",
   "id": "822c575f-909c-40f5-8c79-7003dc1b8970",
   "metadata": {},
   "source": [
    "- binary\n",
    "- octa\n",
    "- hexa"
   ]
  },
  {
   "cell_type": "markdown",
   "id": "8509fd56-fac5-4005-a9f2-9767f18f310b",
   "metadata": {},
   "source": [
    "**hexa number system**\n",
    "- it is denoted with 0x or 0X\n",
    "- hexa means 16\n",
    "- we have generally 0 to 9 digits avaliable\n",
    "- hexa means 16 so 0 to 9 digits and A TO F\n",
    "- A:10 B:11 C:12 D:13 E:14 F:15\n",
    "- ex:0xabc 0XA1\n",
    "- not valid: 0xefg"
   ]
  },
  {
   "cell_type": "code",
   "execution_count": 5,
   "id": "d0835670-d9a2-4a26-a5bb-ee91b09ac11e",
   "metadata": {},
   "outputs": [
    {
     "data": {
      "text/plain": [
       "2748"
      ]
     },
     "execution_count": 5,
     "metadata": {},
     "output_type": "execute_result"
    }
   ],
   "source": [
    "0xabc"
   ]
  },
  {
   "cell_type": "code",
   "execution_count": 6,
   "id": "bf13b323-5f6a-4e89-8844-e03bd1da6054",
   "metadata": {},
   "outputs": [
    {
     "data": {
      "text/plain": [
       "161"
      ]
     },
     "execution_count": 6,
     "metadata": {},
     "output_type": "execute_result"
    }
   ],
   "source": [
    "0XA1"
   ]
  },
  {
   "cell_type": "code",
   "execution_count": null,
   "id": "ed69c1f7-a012-4014-bf42-e8db8464b977",
   "metadata": {},
   "outputs": [],
   "source": []
  },
  {
   "cell_type": "code",
   "execution_count": 1,
   "id": "8d70114b-bfa4-4394-84db-36992c045067",
   "metadata": {},
   "outputs": [
    {
     "data": {
      "text/plain": [
       "11256182"
      ]
     },
     "execution_count": 1,
     "metadata": {},
     "output_type": "execute_result"
    }
   ],
   "source": [
    "0XABC176"
   ]
  },
  {
   "cell_type": "code",
   "execution_count": 10,
   "id": "79d4a963-69fa-4ecd-ab16-0fa8e56ffe50",
   "metadata": {},
   "outputs": [
    {
     "data": {
      "text/plain": [
       "2025"
      ]
     },
     "execution_count": 10,
     "metadata": {},
     "output_type": "execute_result"
    }
   ],
   "source": [
    "0b11111101001"
   ]
  },
  {
   "cell_type": "code",
   "execution_count": 11,
   "id": "8180c72f-7a89-49b9-9906-1d111860e2c1",
   "metadata": {},
   "outputs": [
    {
     "data": {
      "text/plain": [
       "2025"
      ]
     },
     "execution_count": 11,
     "metadata": {},
     "output_type": "execute_result"
    }
   ],
   "source": [
    "0x7E9"
   ]
  },
  {
   "cell_type": "code",
   "execution_count": 12,
   "id": "31f85e76-ab86-474a-be3c-353d8a4cb6ad",
   "metadata": {},
   "outputs": [
    {
     "data": {
      "text/plain": [
       "(2025, 2025)"
      ]
     },
     "execution_count": 12,
     "metadata": {},
     "output_type": "execute_result"
    }
   ],
   "source": [
    "(2025,2025)"
   ]
  },
  {
   "cell_type": "markdown",
   "id": "c038cc38-3be4-426f-86b4-a774909e0ea7",
   "metadata": {},
   "source": [
    "float"
   ]
  },
  {
   "cell_type": "markdown",
   "id": "141d0294-cc1e-4c9b-86b9-9635ffabc65e",
   "metadata": {},
   "source": [
    "float"
   ]
  },
  {
   "cell_type": "markdown",
   "id": "ad3fc495-1d1e-4eb5-b423-432491116195",
   "metadata": {},
   "source": [
    "e representation"
   ]
  },
  {
   "cell_type": "code",
   "execution_count": 13,
   "id": "875a7776-dbfa-4b3c-8584-e2bcfa55c071",
   "metadata": {},
   "outputs": [
    {
     "data": {
      "text/plain": [
       "10.0"
      ]
     },
     "execution_count": 13,
     "metadata": {},
     "output_type": "execute_result"
    }
   ],
   "source": [
    "1e1"
   ]
  },
  {
   "cell_type": "code",
   "execution_count": 14,
   "id": "7b4f6dfc-4946-4b99-957e-1b20bf0d3249",
   "metadata": {},
   "outputs": [
    {
     "data": {
      "text/plain": [
       "1000.0"
      ]
     },
     "execution_count": 14,
     "metadata": {},
     "output_type": "execute_result"
    }
   ],
   "source": [
    "1e3 # 1*1000"
   ]
  },
  {
   "cell_type": "code",
   "execution_count": null,
   "id": "7513aee6-e8e2-46ea-8d35-d2754a2573f5",
   "metadata": {},
   "outputs": [],
   "source": [
    "1e1 # 1*10=10\n",
    "1e2 # 1*100=100\n",
    "2e3 # 2*1000=2000\n",
    "4e4 # 4*10000=40000"
   ]
  },
  {
   "cell_type": "code",
   "execution_count": 16,
   "id": "e758b91d-3486-479a-aed2-c8a0c54dc851",
   "metadata": {},
   "outputs": [
    {
     "name": "stdout",
     "output_type": "stream",
     "text": [
      "10.0\n",
      "100.0\n",
      "2000.0\n",
      "40000.0\n"
     ]
    }
   ],
   "source": [
    "print(1e+1) # 1*10=10\n",
    "print(1e+2) # 1*100=100\n",
    "print(2e+3) # 2*1000=2000\n",
    "print(4e+4) # 4*10000=40000"
   ]
  },
  {
   "cell_type": "code",
   "execution_count": 18,
   "id": "447c42c2-dcb7-4fe5-a15c-6a9307ae34fc",
   "metadata": {},
   "outputs": [
    {
     "name": "stdout",
     "output_type": "stream",
     "text": [
      "0.1\n",
      "0.01\n",
      "0.002\n",
      "0.0004\n"
     ]
    }
   ],
   "source": [
    "print(1e-1) # 1/10=0.1\n",
    "print(1e-2) # 1/100=0.01\n",
    "print(2e-3) # 2/1000=0.002\n",
    "print(4e-4) # 4/10000=0.0004"
   ]
  },
  {
   "cell_type": "markdown",
   "id": "9233225a-d814-481d-8b04-5358877a48e1",
   "metadata": {},
   "source": [
    "BOOLEAN DATA TYPE"
   ]
  },
  {
   "cell_type": "markdown",
   "id": "50b0c91e-f45b-4de7-a7a7-ea34a3d35b20",
   "metadata": {},
   "source": [
    "val=true \n",
    "val"
   ]
  },
  {
   "cell_type": "code",
   "execution_count": 1,
   "id": "b9509b19-241c-4c58-99ac-c209787e5870",
   "metadata": {},
   "outputs": [
    {
     "ename": "NameError",
     "evalue": "name 'true' is not defined",
     "output_type": "error",
     "traceback": [
      "\u001b[1;31m---------------------------------------------------------------------------\u001b[0m",
      "\u001b[1;31mNameError\u001b[0m                                 Traceback (most recent call last)",
      "Cell \u001b[1;32mIn[1], line 1\u001b[0m\n\u001b[1;32m----> 1\u001b[0m val\u001b[38;5;241m=\u001b[39mtrue\n\u001b[0;32m      2\u001b[0m val\n",
      "\u001b[1;31mNameError\u001b[0m: name 'true' is not defined"
     ]
    }
   ],
   "source": [
    "val=true\n",
    "val"
   ]
  },
  {
   "cell_type": "code",
   "execution_count": 2,
   "id": "de1e4897-763a-4b08-93c0-6013c3bb2bea",
   "metadata": {},
   "outputs": [
    {
     "ename": "NameError",
     "evalue": "name 'true' is not defined",
     "output_type": "error",
     "traceback": [
      "\u001b[1;31m---------------------------------------------------------------------------\u001b[0m",
      "\u001b[1;31mNameError\u001b[0m                                 Traceback (most recent call last)",
      "Cell \u001b[1;32mIn[2], line 1\u001b[0m\n\u001b[1;32m----> 1\u001b[0m val\u001b[38;5;241m=\u001b[39mtrue\n\u001b[0;32m      2\u001b[0m val\n",
      "\u001b[1;31mNameError\u001b[0m: name 'true' is not defined"
     ]
    }
   ],
   "source": [
    "val=true\n",
    "val"
   ]
  },
  {
   "cell_type": "code",
   "execution_count": 3,
   "id": "b4a6bf1b-aaeb-48d4-b97c-9bfb8c91c5a7",
   "metadata": {},
   "outputs": [
    {
     "data": {
      "text/plain": [
       "True"
      ]
     },
     "execution_count": 3,
     "metadata": {},
     "output_type": "execute_result"
    }
   ],
   "source": [
    "val=True\n",
    "val"
   ]
  },
  {
   "cell_type": "code",
   "execution_count": 4,
   "id": "8ccadc21-83e9-433a-b390-f2f83e3f422d",
   "metadata": {},
   "outputs": [
    {
     "data": {
      "text/plain": [
       "False"
      ]
     },
     "execution_count": 4,
     "metadata": {},
     "output_type": "execute_result"
    }
   ],
   "source": [
    "val=False\n",
    "val"
   ]
  },
  {
   "cell_type": "code",
   "execution_count": 5,
   "id": "ede531bf-e5c0-4213-a97d-01f4333bf35a",
   "metadata": {},
   "outputs": [
    {
     "name": "stdout",
     "output_type": "stream",
     "text": [
      "False\n"
     ]
    }
   ],
   "source": [
    "val1=False\n",
    "print(val)"
   ]
  },
  {
   "cell_type": "code",
   "execution_count": 10,
   "id": "30f7f6e3-3c78-41a3-bf9a-4c8a37432f24",
   "metadata": {},
   "outputs": [
    {
     "name": "stdout",
     "output_type": "stream",
     "text": [
      "True\n"
     ]
    }
   ],
   "source": [
    "val1=True\n",
    "print(val1)"
   ]
  },
  {
   "cell_type": "markdown",
   "id": "93a3e892-b7f0-4030-bbe8-ea9c4890fc58",
   "metadata": {},
   "source": [
    "- english format representation\n",
    "- strings represent with quotes\n",
    "- we can use single quotes, double quotes also triple qwuotes"
   ]
  },
  {
   "cell_type": "code",
   "execution_count": 6,
   "id": "bbe1bdd1-6ec9-4b39-9fb6-9b478bfb816e",
   "metadata": {},
   "outputs": [
    {
     "data": {
      "text/plain": [
       "'python'"
      ]
     },
     "execution_count": 6,
     "metadata": {},
     "output_type": "execute_result"
    }
   ],
   "source": [
    "name='python'\n",
    "name"
   ]
  },
  {
   "cell_type": "code",
   "execution_count": 7,
   "id": "5f1296f0-1b6a-495b-b7ba-74fceded70fc",
   "metadata": {},
   "outputs": [
    {
     "data": {
      "text/plain": [
       "str"
      ]
     },
     "execution_count": 7,
     "metadata": {},
     "output_type": "execute_result"
    }
   ],
   "source": [
    "type(name)"
   ]
  },
  {
   "cell_type": "code",
   "execution_count": 8,
   "id": "bf9b1590-7455-4e2f-829d-a1054016a05e",
   "metadata": {},
   "outputs": [
    {
     "name": "stdout",
     "output_type": "stream",
     "text": [
      "python\n"
     ]
    }
   ],
   "source": [
    "print(name)\n",
    "# when we will print we will not able to see the quotes"
   ]
  },
  {
   "cell_type": "code",
   "execution_count": 10,
   "id": "c57109ae-c754-44aa-9800-cf358f20c371",
   "metadata": {},
   "outputs": [
    {
     "data": {
      "text/plain": [
       "str"
      ]
     },
     "execution_count": 10,
     "metadata": {},
     "output_type": "execute_result"
    }
   ],
   "source": [
    "val='10'\n",
    "type(val)"
   ]
  },
  {
   "cell_type": "code",
   "execution_count": 11,
   "id": "16ad3150-6900-4031-b30a-c7586352db04",
   "metadata": {},
   "outputs": [
    {
     "data": {
      "text/plain": [
       "int"
      ]
     },
     "execution_count": 11,
     "metadata": {},
     "output_type": "execute_result"
    }
   ],
   "source": [
    "val1=10\n",
    "type(val1)"
   ]
  },
  {
   "cell_type": "code",
   "execution_count": 12,
   "id": "9c1abcb4-6973-426f-8726-ced13a7190ee",
   "metadata": {},
   "outputs": [
    {
     "data": {
      "text/plain": [
       "'naresh it'"
      ]
     },
     "execution_count": 12,
     "metadata": {},
     "output_type": "execute_result"
    }
   ],
   "source": [
    "name=\"naresh it\"\n",
    "name\n",
    "# but the output displayed as single quotes"
   ]
  },
  {
   "cell_type": "code",
   "execution_count": 13,
   "id": "c5ad1681-ff2e-444b-b2c6-0640250effc5",
   "metadata": {},
   "outputs": [
    {
     "data": {
      "text/plain": [
       "str"
      ]
     },
     "execution_count": 13,
     "metadata": {},
     "output_type": "execute_result"
    }
   ],
   "source": [
    "type(name)\n"
   ]
  },
  {
   "cell_type": "code",
   "execution_count": 14,
   "id": "d56087d7-5bd6-4041-adca-658d96ac7e76",
   "metadata": {},
   "outputs": [
    {
     "name": "stdout",
     "output_type": "stream",
     "text": [
      "naresh it\n"
     ]
    }
   ],
   "source": [
    "print(name)"
   ]
  },
  {
   "cell_type": "code",
   "execution_count": 16,
   "id": "50ad5677-f6bb-4b67-a389-d3b792140a59",
   "metadata": {},
   "outputs": [
    {
     "name": "stdout",
     "output_type": "stream",
     "text": [
      "i love 'python'\n"
     ]
    }
   ],
   "source": [
    "str1=\"i love 'python'\"\n",
    "print(str1)"
   ]
  },
  {
   "cell_type": "code",
   "execution_count": 17,
   "id": "40265031-97db-4042-b6d0-2bea84940326",
   "metadata": {},
   "outputs": [
    {
     "name": "stdout",
     "output_type": "stream",
     "text": [
      "i love \"python\"\n"
     ]
    }
   ],
   "source": [
    "str1='i love \"python\"'\n",
    "print(str1)"
   ]
  },
  {
   "cell_type": "markdown",
   "id": "9aeec49e-4041-4e9c-b059-5c4adb58eadb",
   "metadata": {},
   "source": [
    "- keep entire string in double quotes then highlite the word with single quotes vice versa"
   ]
  },
  {
   "cell_type": "markdown",
   "id": "8d8e1718-219b-4beb-ad72-3f998d699520",
   "metadata": {},
   "source": [
    "**triple quotes**\n",
    "- triple qutoes can not use in coding\n",
    "- triple qutoes means conveying information\n",
    "- this is process is called as ** doc string**\n",
    "- in jupyter note book we have markdown option\n",
    "- but in vs code or pycharm there is no markdowm option\n",
    "- so user will convey the information by providing triple quotes"
   ]
  },
  {
   "cell_type": "code",
   "execution_count": null,
   "id": "86f71866-5809-4d31-a456-bb7b0f440062",
   "metadata": {},
   "outputs": [],
   "source": [
    "\"\"\"hai\n",
    "today i am learning python\n",
    "its easy\"\"\""
   ]
  },
  {
   "cell_type": "code",
   "execution_count": null,
   "id": "3365ad03-d4d3-4093-b048-0e3fab415ea6",
   "metadata": {},
   "outputs": [],
   "source": [
    "true=True  # works\n",
    "true='True' # w\n",
    "true=10.5 # w\n",
    "True=10  # f\n",
    "True=True # f"
   ]
  },
  {
   "cell_type": "code",
   "execution_count": 18,
   "id": "e3e18152-d96f-45ea-ad55-0af68d0877c5",
   "metadata": {},
   "outputs": [
    {
     "ename": "SyntaxError",
     "evalue": "cannot assign to True (2826156406.py, line 1)",
     "output_type": "error",
     "traceback": [
      "\u001b[1;36m  Cell \u001b[1;32mIn[18], line 1\u001b[1;36m\u001b[0m\n\u001b[1;33m    True=True\u001b[0m\n\u001b[1;37m    ^\u001b[0m\n\u001b[1;31mSyntaxError\u001b[0m\u001b[1;31m:\u001b[0m cannot assign to True\n"
     ]
    }
   ],
   "source": [
    "True=True"
   ]
  },
  {
   "cell_type": "code",
   "execution_count": 3,
   "id": "8c331331-22fc-4ef5-ad50-a429475bde2d",
   "metadata": {},
   "outputs": [],
   "source": [
    "true=True  \n",
    "true='True' \n",
    "true=10.5 \n",
    "true=10  \n",
    "true=true "
   ]
  },
  {
   "cell_type": "code",
   "execution_count": null,
   "id": "1db11be8-4829-4ae8-aaef-a24d2886a31b",
   "metadata": {},
   "outputs": [],
   "source": [
    "int(True) W 1\n",
    "float(True) W 1.0\n",
    "str(True) 'TRUE'\n",
    "int(False) 0 \n",
    "float(False) 0.0\n",
    "str(False) 'false'"
   ]
  },
  {
   "cell_type": "code",
   "execution_count": 1,
   "id": "caf9661f-764a-4324-b8f0-6de7442d3125",
   "metadata": {},
   "outputs": [
    {
     "ename": "ValueError",
     "evalue": "invalid literal for int() with base 10: 'apple'",
     "output_type": "error",
     "traceback": [
      "\u001b[1;31m---------------------------------------------------------------------------\u001b[0m",
      "\u001b[1;31mValueError\u001b[0m                                Traceback (most recent call last)",
      "Cell \u001b[1;32mIn[1], line 7\u001b[0m\n\u001b[0;32m      5\u001b[0m \u001b[38;5;28mbool\u001b[39m(\u001b[38;5;241m10.5\u001b[39m) \n\u001b[0;32m      6\u001b[0m \u001b[38;5;28mstr\u001b[39m(\u001b[38;5;241m10.5\u001b[39m)\n\u001b[1;32m----> 7\u001b[0m \u001b[38;5;28mint\u001b[39m(\u001b[38;5;124m'\u001b[39m\u001b[38;5;124mapple\u001b[39m\u001b[38;5;124m'\u001b[39m)\n\u001b[0;32m      8\u001b[0m \u001b[38;5;28mfloat\u001b[39m(\u001b[38;5;124m'\u001b[39m\u001b[38;5;124mapple\u001b[39m\u001b[38;5;124m'\u001b[39m)\n\u001b[0;32m      9\u001b[0m \u001b[38;5;28mbool\u001b[39m(\u001b[38;5;124m'\u001b[39m\u001b[38;5;124mapple\u001b[39m\u001b[38;5;124m'\u001b[39m)\n",
      "\u001b[1;31mValueError\u001b[0m: invalid literal for int() with base 10: 'apple'"
     ]
    }
   ],
   "source": [
    "float(10) #10.0\n",
    "str(10)  #'10'\n",
    "bool(10) #t\n",
    "int(10.5) #10\n",
    "bool(10.5)  # t\n",
    "str(10.5) #'10.5'\n",
    "int('apple') #f\n",
    "float('apple') #f\n",
    "bool('apple') #t\n",
    "int('10') #10\n",
    "float('10') #10.0\n",
    "bool('10') #t\n",
    "int('10.5') #f\n",
    "float('10.5') #10.5\n",
    "bool('10.5') #t\n",
    "int(True) # W 1\n",
    "float(True)  #W 1.0\n",
    "str(True)  # 'TRUE'\n",
    "int(False)  #0 \n",
    "float(False)  #0.0\n",
    "str(False)  #'false'\n",
    "bool(0) #f\n",
    "bool(0.0) #f\n",
    "bool('') #f"
   ]
  },
  {
   "cell_type": "code",
   "execution_count": null,
   "id": "2b121f95-66ba-4b27-b7ba-78ebff1e81c6",
   "metadata": {},
   "outputs": [],
   "source": []
  }
 ],
 "metadata": {
  "kernelspec": {
   "display_name": "Python 3 (ipykernel)",
   "language": "python",
   "name": "python3"
  },
  "language_info": {
   "codemirror_mode": {
    "name": "ipython",
    "version": 3
   },
   "file_extension": ".py",
   "mimetype": "text/x-python",
   "name": "python",
   "nbconvert_exporter": "python",
   "pygments_lexer": "ipython3",
   "version": "3.12.7"
  }
 },
 "nbformat": 4,
 "nbformat_minor": 5
}
